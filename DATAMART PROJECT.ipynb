{
    "metadata": {
        "kernelspec": {
            "name": "SQL",
            "display_name": "SQL",
            "language": "sql"
        },
        "language_info": {
            "name": "sql",
            "version": ""
        }
    },
    "nbformat_minor": 2,
    "nbformat": 4,
    "cells": [
        {
            "cell_type": "markdown",
            "source": [
                "# CROP PRODUCTION ANALYSIS\r\n",
                "\r\n",
                "...About tow or three paragraphs explaining my project\r\n",
                "\r\n",
                "## Data Source\r\n",
                "\r\n",
                "## Steps to Mart Creation\r\n",
                "... Provide information about the source of the data for the mart and links to any supporting information\r\n",
                "\r\n",
                "##  Schema Creation\r\n",
                "    -  dim\r\n",
                "    -  stg\r\n",
                "    -  fact\r\n",
                "\r\n",
                "\r\n",
                "\r\n",
                "```\r\n",
                "/*********************************************************************/\r\n",
                "/****************    SCHEMA DDL      ********************************/\r\n",
                "/*******************************************************************/\r\n",
                "IF NOT EXISTS (SELECT * FROM sys.schemas WHERE name = 'dim' ) \r\n",
                "BEGIN\r\n",
                "\tEXEC sp_executesql N'CREATE SCHEMA dim AUTHORIZATION dbo;'\r\n",
                "END\r\n",
                ";\r\n",
                "\r\n",
                "IF NOT EXISTS (SELECT * FROM sys.schemas WHERE name = 'stg' ) \r\n",
                "BEGIN\r\n",
                "\tEXEC sp_executesql N'CREATE SCHEMA stg AUTHORIZATION dbo;'\r\n",
                "END\r\n",
                ";\r\n",
                "\r\n",
                "IF NOT EXISTS (SELECT * FROM sys.schemas WHERE name = 'f' ) \r\n",
                "BEGIN\r\n",
                "\tEXEC sp_executesql N'CREATE SCHEMA f AUTHORIZATION dbo;'\r\n",
                "END\r\n",
                ";\r\n",
                "GO\r\n",
                "```\r\n",
                "\r\n",
                "## Steps to Dimension and fact Creation\r\n",
                "-  Tables Creation\r\n",
                "    -  dim.Area\r\n",
                "    -  dim.Item\r\n",
                "    -  dim.Calendar\r\n",
                "    -  f.fact"
            ],
            "metadata": {
                "azdata_cell_guid": "47785aba-b9cf-4570-b335-a20e8742b801"
            },
            "attachments": {}
        }
    ]
}