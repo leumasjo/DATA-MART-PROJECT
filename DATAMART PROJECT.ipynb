{
    "metadata": {
        "kernelspec": {
            "name": "SQL",
            "display_name": "SQL",
            "language": "sql"
        },
        "language_info": {
            "name": "sql",
            "version": ""
        }
    },
    "nbformat_minor": 2,
    "nbformat": 4,
    "cells": [
        {
            "cell_type": "markdown",
            "source": [
                "# **CROP YIELD ANALYSIS**\r\n",
                "For the purpose of this project, ten (10) crops namely: **cassava**, **maize**, **plantain**, **potatoes**, **rice paddy**, **sorghum**, **soybeans**, **sweet potatoes**, **wheat** and **yam** as well as six (6) random countries namely: **Canada**, **Mexico**, **Kenya**, **Ghana**, **India** and **Spain** were selected within a period of 2010 and 2013 with a view to answering the following questions:\r\n",
                "- What is the total yield of all crops 10 crops from 2010 to 2013?\r\n",
                "- What is the total yield of all crops planted in Canada between 2010 and 2013?\r\n",
                "- What is the quantity of total pesticides used between 2010 and 2013\r\n",
                "- What is the total counts of Weather-Index Insurance claims and which countries and crops have the highest number of WI insurance claims between 2010 and 2013?\r\n",
                "\r\n",
                "## **Data Source**\r\n",
                "Data used for this project was sourced from (https://www.kaggle.com/datasets/patelris/crop-yield-prediction-dataset/data) which aims to analyze and predict crop yield based on various influencing factors such as rainfall and pesticides. The dataset included the following data types:\r\n",
                "- Geographical information (Area)\r\n",
                "- Climate and Environmental Factors (Rainfall, temperature)\r\n",
                "- Agricultural input (Pesticides)\r\n",
                "- Crop information (Crop type, crop yield)\r\n",
                "\r\n",
                "## **Steps to Mart Creation**\r\n",
                "This mart was created based on the principles of Star Schema Design as outline by [Ralph Kinball] (https://www.kimballgroup.com/data-warehouse-business-intelligence-resources/kimball-techniques/dimensional-modeling-techniques/). The following is performed in T-SQL against a SQL Server instance. MS SQL Server 2022 was used for this project. \r\n",
                "\r\n",
                "### **1. Schema Creation**\r\n",
                "The following schemas were created\r\n",
                "-  dim\r\n",
                "-  stg\r\n",
                "-  fact\r\n",
                "\r\n",
                "```sql\r\n",
                "/*********************************************************************/\r\n",
                "/****************    SCHEMA DDL      ********************************/\r\n",
                "/*******************************************************************/\r\n",
                "IF NOT EXISTS (SELECT * FROM sys.schemas WHERE name = 'dim' ) \r\n",
                "BEGIN\r\n",
                "\tEXEC sp_executesql N'CREATE SCHEMA dim AUTHORIZATION dbo;'\r\n",
                "END\r\n",
                ";\r\n",
                "\r\n",
                "IF NOT EXISTS (SELECT * FROM sys.schemas WHERE name = 'stg' ) \r\n",
                "BEGIN\r\n",
                "\tEXEC sp_executesql N'CREATE SCHEMA stg AUTHORIZATION dbo;'\r\n",
                "END\r\n",
                ";\r\n",
                "\r\n",
                "IF NOT EXISTS (SELECT * FROM sys.schemas WHERE name = 'f' ) \r\n",
                "BEGIN\r\n",
                "\tEXEC sp_executesql N'CREATE SCHEMA f AUTHORIZATION dbo;'\r\n",
                "END\r\n",
                ";\r\n",
                "GO\r\n",
                "```\r\n",
                "\r\n",
                "## Steps to Dimension Creation"
            ],
            "metadata": {
                "azdata_cell_guid": "cc1660ef-c8ec-434a-abf9-a1a9d0976852",
                "language": ""
            },
            "attachments": {}
        }
    ]
}