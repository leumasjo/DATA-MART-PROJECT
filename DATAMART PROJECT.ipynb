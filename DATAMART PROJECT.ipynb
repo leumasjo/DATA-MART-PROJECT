{
    "metadata": {
        "kernelspec": {
            "name": "SQL",
            "display_name": "SQL",
            "language": "sql"
        },
        "language_info": {
            "name": "sql",
            "version": ""
        }
    },
    "nbformat_minor": 2,
    "nbformat": 4,
    "cells": [
        {
            "cell_type": "markdown",
            "source": [
                "# **CROP YIELD ANALYSIS**\r\n",
                "For the purpose of this project, ten (10) crops namely: **cassava**, **maize**, **plantain**, **potatoes**, **rice paddy**, **sorghum**, **soybeans**, **sweet potatoes**, **wheat** and **yam** as well as six (6) random countries namely: **Canada**, **Mexico**, **Kenya**, **Ghana**, **India** and **Spain** were selected within a period of 2010 and 2013 with a view to answering the following questions:\r\n",
                "\r\n",
                "### **QUESTIONS**\r\n",
                "- What is the total yield of all crops 10 crops from 2010 to 2013?\r\n",
                "- What is the total yield of all crops planted in Canada between 2010 and 2013?\r\n",
                "- What is the quantity of total pesticides used between 2010 and 2013\r\n",
                "- What is the total counts of Weather-Index Insurance claims and which countries and crops have the highest number of WI insurance claims between 2010 and 2013?\r\n",
                "\r\n",
                "## **Data Source**\r\n",
                "Data used for this project was sourced from [Kaggle](https://www.kaggle.com/datasets/patelris/crop-yield-prediction-dataset/data) which aims to analyze and predict crop yield based on various influencing factors such as rainfall and pesticides. The dataset included the following data types:\r\n",
                "- Geographical information (Area)\r\n",
                "- Climate and Environmental Factors (Rainfall, temperature)\r\n",
                "- Agricultural input (Pesticides)\r\n",
                "- Crop information (Crop type, crop yield)\r\n",
                "\r\n",
                "## **Steps to Mart Creation**\r\n",
                "This mart was created based on the principles of Star Schema Design as outline by [Ralph Kinball](https://www.kimballgroup.com/data-warehouse-business-intelligence-resources/kimball-techniques/dimensional-modeling-techniques/). The following is performed in T-SQL against a SQL Server instance. Dax Studio was used to import data into my database stage schema. MS SQL Server 2022 was used for this project. \r\n",
                "\r\n",
                "### **1. Schema Creation**\r\n",
                "The following schemas were created:\r\n",
                "-  dim\r\n",
                "-  stg\r\n",
                "-  fact\r\n",
                "\r\n",
                "#### Code example using the \"insert code\" method\r\n",
                "```sql\r\n",
                "/*********************************************************************/\r\n",
                "/****************    SCHEMA DDL      ********************************/\r\n",
                "/*******************************************************************/\r\n",
                "IF NOT EXISTS (SELECT * FROM sys.schemas WHERE name = 'dim' ) \r\n",
                "BEGIN\r\n",
                "\tEXEC sp_executesql N'CREATE SCHEMA dim AUTHORIZATION dbo;'\r\n",
                "END\r\n",
                ";\r\n",
                "\r\n",
                "IF NOT EXISTS (SELECT * FROM sys.schemas WHERE name = 'stg' ) \r\n",
                "BEGIN\r\n",
                "\tEXEC sp_executesql N'CREATE SCHEMA stg AUTHORIZATION dbo;'\r\n",
                "END\r\n",
                ";\r\n",
                "\r\n",
                "IF NOT EXISTS (SELECT * FROM sys.schemas WHERE name = 'f' ) \r\n",
                "BEGIN\r\n",
                "\tEXEC sp_executesql N'CREATE SCHEMA f AUTHORIZATION dbo;'\r\n",
                "END\r\n",
                ";\r\n",
                "GO\r\n",
                "```\r\n",
                "### **Explanation of Schema Creation**\r\n",
                "- **Step 1:** Checking for the existence of the schema named \"dim\" in the database\r\n",
                "- **Step 2:** If the schema does not exist, the script executes and creates schema while setting its owner to \"dbo\" (the database owner)\r\n",
                "- **Step 3:** Repeat thesame logic to check and create other schemas \"stg\" and \"f\"\r\n",
                "\r\n",
                "### **2. Dim Table Creation**\r\n",
                "The following tables were created\r\n",
                "-  Area\r\n",
                "-  Item\r\n",
                "-  Calendar\r\n",
                "\r\n",
                "#### Code example using the \"insert code\" method\r\n",
                "\r\n",
                "```sql\r\n",
                "/****************************************************************************/\r\n",
                "/*********************   AREA DIM DDL   *************************************/\r\n",
                "/***************************************************************************/\r\n",
                "\r\n",
                "IF NOT EXISTS (SELECT * FROM INFORMATION_SCHEMA.TABLES WHERE TABLE_SCHEMA = 'dim' AND TABLE_NAME = 'Area')\r\n",
                "BEGIN\r\n",
                "CREATE TABLE dim.Area(\r\n",
                "\tArea_Code bigint NOT NULL,\r\n",
                "\tArea nvarchar(max) NOT NULL\r\n",
                "\t)\r\n",
                "\t;\r\n",
                "\r\n",
                "\tALTER TABLE dim.Area\r\n",
                "\tADD CONSTRAINT pk_Area PRIMARY KEY(Area_Code);\r\n",
                "\r\n",
                "END;\r\n",
                "\r\n",
                "/****************************************************************************/\r\n",
                "/*********************  ITEM DIM DDL   *************************************/\r\n",
                "/**************************************************************************/\r\n",
                "IF NOT EXISTS (SELECT * FROM INFORMATION_SCHEMA.TABLES WHERE TABLE_SCHEMA = 'dim' AND TABLE_NAME = 'Item')\r\n",
                "BEGIN\r\n",
                "CREATE TABLE dim.Item(\r\n",
                "\tItemCode bigint NOT NULL,\r\n",
                "\tItem nvarchar(max) NOT NULL\r\n",
                "\t);\r\n",
                "\r\n",
                "\tALTER TABLE dim.Item\r\n",
                "\tADD CONSTRAINT pk_Item PRIMARY KEY(ItemCode);\r\n",
                "END;\r\n",
                "\r\n",
                "/****************************************************************************/\r\n",
                "/*********************  CALENDAR DIM DDL   *************************************/\r\n",
                "/*******************************************************************************/\r\n",
                "IF NOT EXISTS (SELECT * FROM INFORMATION_SCHEMA.TABLES WHERE TABLE_SCHEMA = 'dim' AND TABLE_NAME = 'Calendar')\r\n",
                "BEGIN\r\n",
                "    CREATE TABLE dim.Calendar (\r\n",
                "        pkCalendarID INT NOT NULL,\r\n",
                "        Year INT NOT NULL\r\n",
                "    );\r\n",
                "      ALTER TABLE dim.Calendar\r\n",
                "    ADD CONSTRAINT PK_Calendar PRIMARY KEY (pkCalendarID);\r\n",
                "     ALTER TABLE dim.Calendar\r\n",
                "    ADD CONSTRAINT UC_Calendar UNIQUE (Year);\r\n",
                "END;\r\n",
                "\r\n",
                "```\r\n",
                "\r\n",
                "### **Explanation of Dim Tables Creation**\r\n",
                "**Area and Item Tables**\r\n",
                "- **Step 1:** Checking for the existence of the tables in the schema \"dim\"\r\n",
                "- **Step 2:** If the tables do not exist, system view called INFORMATION_SCHEMA.TABLES - was used to look for tables names \"Area\" and \"Item\" in the schema \"dim\"\r\n",
                "- **Step 3:** Tables names dim.Area and dim.Item were created with two columns respectively (Area_code, Area) and (ItemCode, Item). \"Area_Code\" and \"ItemCode\" colunms are bigint columns which can not be null while \"Area\" and \"Item\" columns are nvarchar(max) which can not also be null.\r\n",
                "- **Step 4:** Primary Key Constraints were defined for both tables i.e Area_Code and ItemCode in order to ensure that the values are unique with a unique identifier.\r\n",
                "\r\n",
                "**Calendar Table**\r\n",
                "- **Step 1:** Checking for the existence of dim.calendar in the schema \"dim\"\r\n",
                "- **Step 2:** If the table does not exist, system view called INFORMATION_SCHEMA.TABLES - was used to look for table names \"Calendar\" in the schema \"dim\"\r\n",
                "-  **Step 3:** \"pkCalendarID\" was taken as the primary key column that uniquely idenfies each row and is defined as \"not null\" to ensure there is a value in it. The \"year\" column is set to \"integer\" and \"not null\" so as to guarantee the column  has a valid data\r\n",
                "- **Step 4:** Primary key constraint was created to ensure that \"pkCalendarID\" uniquely idenfies every record and automatically create a clustered index in the column.\r\n",
                " **Step 5:** Unique constraint was created to ensure that each year appears only once in the table.\r\n",
                "\r\n",
                " ### **3. Fact (f) Table Creation**\r\n",
                "The following tables were created\r\n",
                "-  fact\r\n",
                "\r\n",
                "#### Code example using the \"insert code\" method\r\n",
                "\r\n",
                "```sql\r\n",
                "IF NOT EXISTS (SELECT * FROM INFORMATION_SCHEMA.TABLES WHERE TABLE_SCHEMA = 'f' AND TABLE_NAME = 'fact')\r\n",
                "BEGIN\r\n",
                "CREATE TABLE f.fact(\r\n",
                "\tArea_Code bigint NOT NULL,\r\n",
                "\tItemCode int NOT NULL,\r\n",
                "\tYear int NOT NULL,\r\n",
                "\thg_ha_Yield int NULL,\r\n",
                "\tAverage_rainfall int NULL,\r\n",
                "\tpesticides int NOT NULL,\r\n",
                "\tavg_temp int NULL,\r\n",
                "\tMin_Rainfall_Reqd int NULL,\r\n",
                "\tWeather_Index_Insurance nvarchar(10)\r\n",
                ");\r\n",
                "ALTER TABLE f.fact\r\n",
                "ADD CONSTRAINT  FK_Item FOREIGN KEY(ItemCode) REFERENCES dim.item(ItemCode);\r\n",
                "ALTER TABLE f.fact\r\n",
                "ADD CONSTRAINT FK_Area FOREIGN KEY (Area_Code) REFERENCES dim.Area(Area_Code);\r\n",
                "ALTER TABLE f.fact\r\n",
                "ADD CONSTRAINT FK_Year FOREIGN KEY (Year) REFERENCES dim.Calendar(Year);\r\n",
                "END;\r\n",
                "```\r\n",
                "\r\n",
                "### **Explanation of Fact Table Creation**\r\n",
                "- **Step 1:** Checking for the existence of the tables in the schema \"f\"\r\n",
                "- **Step 2:** If the tables do not exist, system view called INFORMATION_SCHEMA.TABLES - was used to look for tables name \"fact\" in the schema \"f\"\r\n",
                "- **Step 3:** Fact table structure\r\n",
                "    -  Area_Code: Links to the dim.Area table (foreign key).\r\n",
                "    - ItemCode: Links to the dim.item table (foreign key).\r\n",
                "    -  Year: Represents the year of the recorded fact, linking to dim.Calendar.\r\n",
                "    - hg_ha_Yield: (nullable) The crop yield in hectograms per hectare.\r\n",
                "    - Average_rainfall: (nullable) The average rainfall for the year/area.\r\n",
                "    - pesticides: The total pesticides used; this is a mandatory field.\r\n",
                "    - avg_temp: (nullable) The average temperature for the year/area.\r\n",
                "    - Min_Rainfall_Reqd: (nullable) The minimum rainfall required for optimal crop growth.\r\n",
                "    - Weather_Index_Insurance: Whether a weather insurance claim was made; values are \"Claim\" or \"No Claim\"\r\n",
                "- **Step 4:** Foreign keys were created to establish a relationship between the fact table and the dim tables\r\n",
                "\r\n",
                " ### **3. Project ERD**\r\n",
                "![ERD](./SamuelBIProject.png)\r\n",
                " \r\n",
                " \r\n",
                " ### **4. Data Loading for Test (Seed Data)**\r\n",
                "\r\n",
                " Data were loaded into the following tables from stg\r\n",
                "-  Area\r\n",
                "-  Item\r\n",
                "-  Calendar\r\n",
                "- Fact\r\n",
                "\r\n",
                "```sql\r\n",
                "/****************************************************************************/\r\n",
                "/*********************  DIM AREA LOADER  ***********************************/\r\n",
                "/*******************************************************************************/\r\n",
                "INSERT INTO dim.Area(Area_Code, Area)\r\n",
                "SELECT psda.Area_Code\r\n",
                "\t\t  ,psda.Area\r\n",
                "FROM Project.stg.dim_Area psda\r\n",
                "WHERE NOT EXISTS (\r\n",
                "SELECT 1\r\n",
                "FROM dim.Area da\r\n",
                "WHERE da.Area_Code=psda.Area_Code)\r\n",
                ";\r\n",
                "\r\n",
                "/****************************************************************************/\r\n",
                "/*********************  DIM ITEM LOADER  ***********************************/\r\n",
                "/*******************************************************************************/\r\n",
                "INSERT INTO dim.Item(ItemCode, Item)\r\n",
                "SELECT psdi.ItemCode\r\n",
                "\t\t  ,psdi.Item\r\n",
                "FROM Project.stg.dim_Item psdi\r\n",
                "WHERE NOT EXISTS (\r\n",
                "SELECT 1\r\n",
                "FROM dim.Item di\r\n",
                "WHERE di.ItemCode=psdi.ItemCode)\r\n",
                ";\r\n",
                "\r\n",
                "/****************************************************************************/\r\n",
                "/*********************  DIM CALEDAR LOADER  ***********************************/\r\n",
                "/*******************************************************************************/\r\n",
                "\r\n",
                "DECLARE @Year INT;\r\n",
                "-- Loop through the years from 1990 to 2013\r\n",
                "SET @Year = 1990;\r\n",
                "\r\n",
                "WHILE @Year <= 2013\r\n",
                "BEGIN\r\n",
                "    -- Insert the Year into dim.Calendar table only if it doesn't already exist\r\n",
                "    INSERT INTO dim.Calendar (pkCalendarID, [Year])\r\n",
                "    SELECT \r\n",
                "        (@Year - 1990) * 10000 + 1 AS pkCalendarID,  -- Generate pkCalendarID\r\n",
                "        @Year AS [Year]                              -- Insert the Year\r\n",
                "    WHERE NOT EXISTS (\r\n",
                "        SELECT 1\r\n",
                "        FROM dim.Calendar dc\r\n",
                "        WHERE dc.[Year] = @Year\r\n",
                "    );\r\n",
                "\r\n",
                "    -- Move to the next year\r\n",
                "    SET @Year = @Year + 1;\r\n",
                "END;\r\n",
                "\r\n",
                "\r\n",
                "/****************************************************************************/\r\n",
                "/*********************  FACT TABLE LOADER  ***********************************/\r\n",
                "/*******************************************************************************/\r\n",
                "\r\n",
                "INSERT INTO f.fact(Area_Code,ItemCode,\tYear, hg_ha_Yield, Average_rainfall,pesticides,\tavg_temp, Min_Rainfall_Reqd, Weather_Index_Insurance)\r\n",
                "\r\n",
                "\tSELECT sq.Area_Code as f_Area_Code,\r\n",
                "\t\tsq.ItemCode as f_ItemCode,\r\n",
                "\t\tsq.Year as f_Year,\r\n",
                "\t\tsq.[hg/ha_yield] as f_Yield,\r\n",
                "\t\tsq.average_rain_fall_mm_per_year as f_Avg_rainfall,\r\n",
                "\t\tsq.pesticides_tonnes as f_pesticides,\r\n",
                "\t\tsq.avg_temp as f_avg_temp,\r\n",
                "\t\tsq.[Min_Rainfall-Reqd] as f_min_rainfall_required,\r\n",
                "\t\tsq.Weather_Index_Insurance as f_WI_Insurance\r\n",
                "\tFROM stg.qfact sq\r\n",
                "\tWHERE NOT EXISTS (\r\n",
                "\tSELECT 1\r\n",
                "\tFROM f.fact ff\r\n",
                "\tWHERE sq.ItemCode = ff.ItemCode\r\n",
                "\tAND sq.Area_Code = ff.Area_Code\r\n",
                "\tAND sq.Year\t= ff.Year\r\n",
                "\t);\r\n",
                "\r\n",
                "Go\r\n",
                "```\r\n",
                "\r\n",
                "### **Explanation of Data Loading Code**\r\n",
                "- **AREA LOADER**\r\n",
                "- **Step 1:** Inserted data into dim.Area table specifying that Area_Code and Area will recieve data from the dim.Area table in the project.stg schema aliased 'pdsa'\r\n",
                "- **Step 2:** The WHERE NOT EXISTS clause means only the rows where the Area_Code from psda (staging table) do not already exist in the dim.Area table should be inserted. The SELECT 1 is checking for the presence of any rows where the Area_Code matches. If no match is found, the psda.Area_Code is inserted into dim.Area.\"\r\n",
                "\r\n",
                "- **ITEM LOADER**\r\n",
                "- **Step 1:** Inserted data into dim.item table specifying that ItemCode and item will recieve data from the dim.Area table in the project.stg schema aliased 'pdsa'\r\n",
                "- **Step 2:** The WHERE NOT EXISTS clause means only the rows where the ItemCode from psda (staging table) do not already exist in the dim.Area table should be inserted. The SELECT 1 is checking for the presence of any rows where the ItemCode matches. If no match is found, the psda.ItemCode is inserted into dim.Item.\"\r\n",
                "\r\n",
                "- **CALENDAR LOADER**\r\n",
                "\r\n",
                "The SQL script inserts a year into the dim.Calendar table for the years between 1990 and 2013 (inclusive), but only if that year doesn't already exist in the table\r\n",
                "- **Step 1:** Declaring a variable integer @year to store the year value in the loop\r\n",
                "- **Step 2** Initializing the @year variable to 1990 which is the loop starting year\r\n",
                "- **Step 3** A while loop was intiated to run as long as @year is less than or equal to 2013\r\n",
                "- **Step 4** A new record with \"pkCalendarID'ensuring that it is unique for the year is inserted. it is unique for each and begins at 1 for 1990 and increasing by 1 for each year.\r\n",
                "- **Step 5** \"where not exists\" clause ensures that a year is only inserted if it doesn't already exist in the dim.Calendar table\r\n",
                "- **Step 6** After each instance, the year is increased by 1 moving to the next year.\r\n",
                "\r\n",
                "**FACT LOADER**\r\n",
                "- **Step 1:** INSERT INTO f.fact specifies the target table and the columns into which the data will be inserted: Area_Code, ItemCode, Year, hg_ha_Yield, Average_rainfall, pesticides, avg_temp, Min_Rainfall_Reqd, and Weather_Index_Insurance.\r\n",
                "\r\n",
                "- **Step 2:** SELECT Clause selects the data from the stg.qfact source table and renames the columns for insertion into f.fact.\r\n",
                "For example, sq.Area_Code AS f_Area_Code selects the Area_Code from stg.qfact and aliases it as f_Area_Code to match the target table structure in f.fact.\r\n",
                "\r\n",
                "- **Step 3:** WHERE NOT EXISTS ensures that only records from stg.qfact that do not already exist in f.fact (based on ItemCode, Area_Code and Year) are inserted. This prevents inserting duplicate rows into the f.fact table.\r\n",
                "\r\n",
                "\r\n",
                ""
            ],
            "metadata": {
                "azdata_cell_guid": "cc1660ef-c8ec-434a-abf9-a1a9d0976852",
                "language": ""
            },
            "attachments": {}
        },
        {
            "cell_type": "code",
            "source": [
                "IF NOT EXISTS (SELECT * FROM sys.schemas WHERE name = 'dim' ) \r\n",
                "BEGIN\r\n",
                "    EXEC sp_executesql N'CREATE SCHEMA dim AUTHORIZATION dbo;'\r\n",
                "END\r\n",
                ";\r\n",
                "\r\n",
                "IF NOT EXISTS (SELECT * FROM sys.schemas WHERE name = 'stg' ) \r\n",
                "BEGIN\r\n",
                "    EXEC sp_executesql N'CREATE SCHEMA stg AUTHORIZATION dbo;'\r\n",
                "END\r\n",
                ";\r\n",
                "\r\n",
                "IF NOT EXISTS (SELECT * FROM sys.schemas WHERE name = 'f' ) \r\n",
                "BEGIN\r\n",
                "    EXEC sp_executesql N'CREATE SCHEMA f AUTHORIZATION dbo;'\r\n",
                "END\r\n",
                ";\r\n",
                "GO"
            ],
            "metadata": {
                "azdata_cell_guid": "50bb9393-cb58-4d98-a2f9-77724311fed7",
                "language": "sql"
            },
            "outputs": [
                {
                    "output_type": "display_data",
                    "data": {
                        "text/html": "Commands completed successfully."
                    },
                    "metadata": {}
                },
                {
                    "output_type": "display_data",
                    "data": {
                        "text/html": "Total execution time: 00:00:00.012"
                    },
                    "metadata": {}
                }
            ],
            "execution_count": 2
        },
        {
            "cell_type": "code",
            "source": [
                "/****************************************************************************/\r\n",
                "/*********************   AREA DIM DDL   *************************************/\r\n",
                "/***************************************************************************/\r\n",
                "\r\n",
                "IF NOT EXISTS (SELECT * FROM INFORMATION_SCHEMA.TABLES WHERE TABLE_SCHEMA = 'dim' AND TABLE_NAME = 'Area')\r\n",
                "BEGIN\r\n",
                "CREATE TABLE dim.Area(\r\n",
                "    Area_Code bigint NOT NULL,\r\n",
                "    Area nvarchar(max) NOT NULL\r\n",
                "    )\r\n",
                "    ;\r\n",
                "\r\n",
                "    ALTER TABLE dim.Area\r\n",
                "    ADD CONSTRAINT pk_Area PRIMARY KEY(Area_Code);\r\n",
                "\r\n",
                "END;\r\n",
                "\r\n",
                "/****************************************************************************/\r\n",
                "/*********************  ITEM DIM DDL   *************************************/\r\n",
                "/**************************************************************************/\r\n",
                "IF NOT EXISTS (SELECT * FROM INFORMATION_SCHEMA.TABLES WHERE TABLE_SCHEMA = 'dim' AND TABLE_NAME = 'Item')\r\n",
                "BEGIN\r\n",
                "CREATE TABLE dim.Item(\r\n",
                "    ItemCode bigint NOT NULL,\r\n",
                "    Item nvarchar(max) NOT NULL\r\n",
                "    );\r\n",
                "\r\n",
                "    ALTER TABLE dim.Item\r\n",
                "    ADD CONSTRAINT pk_Item PRIMARY KEY(ItemCode);\r\n",
                "END;\r\n",
                "\r\n",
                "/****************************************************************************/\r\n",
                "/*********************  CALENDAR DIM DDL   *************************************/\r\n",
                "/*******************************************************************************/\r\n",
                "IF NOT EXISTS (SELECT * FROM INFORMATION_SCHEMA.TABLES WHERE TABLE_SCHEMA = 'dim' AND TABLE_NAME = 'Calendar')\r\n",
                "BEGIN\r\n",
                "    CREATE TABLE dim.Calendar (\r\n",
                "        pkCalendarID INT NOT NULL,\r\n",
                "        Year INT NOT NULL\r\n",
                "    );\r\n",
                "      ALTER TABLE dim.Calendar\r\n",
                "    ADD CONSTRAINT PK_Calendar PRIMARY KEY (pkCalendarID);\r\n",
                "     ALTER TABLE dim.Calendar\r\n",
                "    ADD CONSTRAINT UC_Calendar UNIQUE (Year);\r\n",
                "END;"
            ],
            "metadata": {
                "language": "sql",
                "azdata_cell_guid": "4c6da280-2c74-4ab8-9283-c60a359a4b9a"
            },
            "outputs": [
                {
                    "output_type": "display_data",
                    "data": {
                        "text/html": "Commands completed successfully."
                    },
                    "metadata": {}
                },
                {
                    "output_type": "display_data",
                    "data": {
                        "text/html": "Total execution time: 00:00:00.052"
                    },
                    "metadata": {}
                }
            ],
            "execution_count": 3
        },
        {
            "cell_type": "code",
            "source": [
                "IF NOT EXISTS (SELECT * FROM INFORMATION_SCHEMA.TABLES WHERE TABLE_SCHEMA = 'f' AND TABLE_NAME = 'fact')\r\n",
                "BEGIN\r\n",
                "CREATE TABLE f.fact(\r\n",
                "    Area_Code bigint NOT NULL,\r\n",
                "    ItemCode int NOT NULL,\r\n",
                "    Year int NOT NULL,\r\n",
                "    hg_ha_Yield int NULL,\r\n",
                "    Average_rainfall int NULL,\r\n",
                "    pesticides int NOT NULL,\r\n",
                "    avg_temp int NULL,\r\n",
                "    Min_Rainfall_Reqd int NULL,\r\n",
                "    Weather_Index_Insurance nvarchar(10)\r\n",
                ");\r\n",
                "ALTER TABLE f.fact\r\n",
                "ADD CONSTRAINT  FK_Item FOREIGN KEY(ItemCode) REFERENCES dim.item(ItemCode);\r\n",
                "ALTER TABLE f.fact\r\n",
                "ADD CONSTRAINT FK_Area FOREIGN KEY (Area_Code) REFERENCES dim.Area(Area_Code);\r\n",
                "ALTER TABLE f.fact\r\n",
                "ADD CONSTRAINT FK_Year FOREIGN KEY (Year) REFERENCES dim.Calendar(Year);\r\n",
                "END;"
            ],
            "metadata": {
                "azdata_cell_guid": "c3eebabe-6a09-4530-a4eb-6112e6a2c8b3",
                "language": "sql"
            },
            "outputs": [
                {
                    "output_type": "display_data",
                    "data": {
                        "text/html": "Commands completed successfully."
                    },
                    "metadata": {}
                },
                {
                    "output_type": "display_data",
                    "data": {
                        "text/html": "Total execution time: 00:00:00.037"
                    },
                    "metadata": {}
                }
            ],
            "execution_count": 4
        },
        {
            "cell_type": "code",
            "source": [
                "/****************************************************************************/\r\n",
                "/*********************  DIM AREA LOADER  ***********************************/\r\n",
                "/*******************************************************************************/\r\n",
                "INSERT INTO dim.Area(Area_Code, Area)\r\n",
                "SELECT psda.Area_Code\r\n",
                "          ,psda.Area\r\n",
                "FROM Project.stg.dim_Area psda\r\n",
                "WHERE NOT EXISTS (\r\n",
                "SELECT 1\r\n",
                "FROM dim.Area da\r\n",
                "WHERE da.Area_Code=psda.Area_Code)\r\n",
                ";\r\n",
                "\r\n",
                "/****************************************************************************/\r\n",
                "/*********************  DIM ITEM LOADER  ***********************************/\r\n",
                "/*******************************************************************************/\r\n",
                "INSERT INTO dim.Item(ItemCode, Item)\r\n",
                "SELECT psdi.ItemCode\r\n",
                "          ,psdi.Item\r\n",
                "FROM Project.stg.dim_Item psdi\r\n",
                "WHERE NOT EXISTS (\r\n",
                "SELECT 1\r\n",
                "FROM dim.Item di\r\n",
                "WHERE di.ItemCode=psdi.ItemCode)\r\n",
                ";\r\n",
                "\r\n",
                "/****************************************************************************/\r\n",
                "/*********************  DIM CALEDAR LOADER  ***********************************/\r\n",
                "/*******************************************************************************/\r\n",
                "\r\n",
                "DECLARE @Year INT;\r\n",
                "-- Loop through the years from 1990 to 2013\r\n",
                "SET @Year = 1990;\r\n",
                "\r\n",
                "WHILE @Year <= 2013\r\n",
                "BEGIN\r\n",
                "    -- Insert the Year into dim.Calendar table only if it doesn't already exist\r\n",
                "    INSERT INTO dim.Calendar (pkCalendarID, [Year])\r\n",
                "    SELECT \r\n",
                "        (@Year - 1990) * 10000 + 1 AS pkCalendarID,  -- Generate pkCalendarID\r\n",
                "        @Year AS [Year]                              -- Insert the Year\r\n",
                "    WHERE NOT EXISTS (\r\n",
                "        SELECT 1\r\n",
                "        FROM dim.Calendar dc\r\n",
                "        WHERE dc.[Year] = @Year\r\n",
                "    );\r\n",
                "\r\n",
                "    -- Move to the next year\r\n",
                "    SET @Year = @Year + 1;\r\n",
                "END;\r\n",
                "\r\n",
                "\r\n",
                "/****************************************************************************/\r\n",
                "/*********************  FACT TABLE LOADER  ***********************************/\r\n",
                "/*******************************************************************************/\r\n",
                "\r\n",
                "INSERT INTO f.fact(Area_Code,ItemCode,\tYear, hg_ha_Yield, Average_rainfall,pesticides,\tavg_temp, Min_Rainfall_Reqd, Weather_Index_Insurance)\r\n",
                "\r\n",
                "    SELECT sq.Area_Code as f_Area_Code,\r\n",
                "        sq.ItemCode as f_ItemCode,\r\n",
                "        sq.Year as f_Year,\r\n",
                "        sq.[hg/ha_yield] as f_Yield,\r\n",
                "        sq.average_rain_fall_mm_per_year as f_Avg_rainfall,\r\n",
                "        sq.pesticides_tonnes as f_pesticides,\r\n",
                "        sq.avg_temp as f_avg_temp,\r\n",
                "        sq.[Min_Rainfall-Reqd] as f_min_rainfall_required,\r\n",
                "        sq.Weather_Index_Insurance as f_WI_Insurance\r\n",
                "    FROM stg.qfact sq\r\n",
                "    WHERE NOT EXISTS (\r\n",
                "    SELECT 1\r\n",
                "    FROM f.fact ff\r\n",
                "    WHERE sq.ItemCode = ff.ItemCode\r\n",
                "    AND sq.Area_Code = ff.Area_Code\r\n",
                "    AND sq.Year\t= ff.Year\r\n",
                "    );\r\n",
                "\r\n",
                "Go"
            ],
            "metadata": {
                "azdata_cell_guid": "2e0e12c4-33b4-42b2-bc92-e317f8ca36bc",
                "language": "sql"
            },
            "outputs": [
                {
                    "output_type": "display_data",
                    "data": {
                        "text/html": "(0 rows affected)"
                    },
                    "metadata": {}
                },
                {
                    "output_type": "display_data",
                    "data": {
                        "text/html": "(0 rows affected)"
                    },
                    "metadata": {}
                },
                {
                    "output_type": "display_data",
                    "data": {
                        "text/html": "(0 rows affected)"
                    },
                    "metadata": {}
                },
                {
                    "output_type": "display_data",
                    "data": {
                        "text/html": "(0 rows affected)"
                    },
                    "metadata": {}
                },
                {
                    "output_type": "display_data",
                    "data": {
                        "text/html": "(0 rows affected)"
                    },
                    "metadata": {}
                },
                {
                    "output_type": "display_data",
                    "data": {
                        "text/html": "(0 rows affected)"
                    },
                    "metadata": {}
                },
                {
                    "output_type": "display_data",
                    "data": {
                        "text/html": "(0 rows affected)"
                    },
                    "metadata": {}
                },
                {
                    "output_type": "display_data",
                    "data": {
                        "text/html": "(0 rows affected)"
                    },
                    "metadata": {}
                },
                {
                    "output_type": "display_data",
                    "data": {
                        "text/html": "(0 rows affected)"
                    },
                    "metadata": {}
                },
                {
                    "output_type": "display_data",
                    "data": {
                        "text/html": "(0 rows affected)"
                    },
                    "metadata": {}
                },
                {
                    "output_type": "display_data",
                    "data": {
                        "text/html": "(0 rows affected)"
                    },
                    "metadata": {}
                },
                {
                    "output_type": "display_data",
                    "data": {
                        "text/html": "(0 rows affected)"
                    },
                    "metadata": {}
                },
                {
                    "output_type": "display_data",
                    "data": {
                        "text/html": "(0 rows affected)"
                    },
                    "metadata": {}
                },
                {
                    "output_type": "display_data",
                    "data": {
                        "text/html": "(0 rows affected)"
                    },
                    "metadata": {}
                },
                {
                    "output_type": "display_data",
                    "data": {
                        "text/html": "(0 rows affected)"
                    },
                    "metadata": {}
                },
                {
                    "output_type": "display_data",
                    "data": {
                        "text/html": "(0 rows affected)"
                    },
                    "metadata": {}
                },
                {
                    "output_type": "display_data",
                    "data": {
                        "text/html": "(0 rows affected)"
                    },
                    "metadata": {}
                },
                {
                    "output_type": "display_data",
                    "data": {
                        "text/html": "(0 rows affected)"
                    },
                    "metadata": {}
                },
                {
                    "output_type": "display_data",
                    "data": {
                        "text/html": "(0 rows affected)"
                    },
                    "metadata": {}
                },
                {
                    "output_type": "display_data",
                    "data": {
                        "text/html": "(0 rows affected)"
                    },
                    "metadata": {}
                },
                {
                    "output_type": "display_data",
                    "data": {
                        "text/html": "(0 rows affected)"
                    },
                    "metadata": {}
                },
                {
                    "output_type": "display_data",
                    "data": {
                        "text/html": "(0 rows affected)"
                    },
                    "metadata": {}
                },
                {
                    "output_type": "display_data",
                    "data": {
                        "text/html": "(0 rows affected)"
                    },
                    "metadata": {}
                },
                {
                    "output_type": "display_data",
                    "data": {
                        "text/html": "(0 rows affected)"
                    },
                    "metadata": {}
                },
                {
                    "output_type": "display_data",
                    "data": {
                        "text/html": "(0 rows affected)"
                    },
                    "metadata": {}
                },
                {
                    "output_type": "display_data",
                    "data": {
                        "text/html": "(0 rows affected)"
                    },
                    "metadata": {}
                },
                {
                    "output_type": "display_data",
                    "data": {
                        "text/html": "(0 rows affected)"
                    },
                    "metadata": {}
                },
                {
                    "output_type": "display_data",
                    "data": {
                        "text/html": "Total execution time: 00:00:00.105"
                    },
                    "metadata": {}
                }
            ],
            "execution_count": 5
        },
        {
            "cell_type": "code",
            "source": [
                "SELECT TOP 10 * FROM f.fact;"
            ],
            "metadata": {
                "azdata_cell_guid": "8eac2e73-ec43-4177-b87f-44b48f968e9a",
                "language": "sql",
                "tags": []
            },
            "outputs": [
                {
                    "output_type": "display_data",
                    "data": {
                        "text/html": "(10 rows affected)"
                    },
                    "metadata": {}
                },
                {
                    "output_type": "display_data",
                    "data": {
                        "text/html": "Total execution time: 00:00:00.035"
                    },
                    "metadata": {}
                },
                {
                    "output_type": "execute_result",
                    "metadata": {},
                    "execution_count": 8,
                    "data": {
                        "application/vnd.dataresource+json": {
                            "schema": {
                                "fields": [
                                    {
                                        "name": "Area_Code"
                                    },
                                    {
                                        "name": "ItemCode"
                                    },
                                    {
                                        "name": "Year"
                                    },
                                    {
                                        "name": "hg_ha_Yield"
                                    },
                                    {
                                        "name": "Average_rainfall"
                                    },
                                    {
                                        "name": "pesticides"
                                    },
                                    {
                                        "name": "avg_temp"
                                    },
                                    {
                                        "name": "Min_Rainfall_Reqd"
                                    },
                                    {
                                        "name": "Weather_Index_Insurance"
                                    }
                                ]
                            },
                            "data": [
                                {
                                    "Area_Code": "100",
                                    "ItemCode": "15",
                                    "Year": "1990",
                                    "hg_ha_Yield": "21211",
                                    "Average_rainfall": "1083",
                                    "pesticides": "75000",
                                    "avg_temp": "25",
                                    "Min_Rainfall_Reqd": "450",
                                    "Weather_Index_Insurance": "No Claim"
                                },
                                {
                                    "Area_Code": "100",
                                    "ItemCode": "15",
                                    "Year": "1990",
                                    "hg_ha_Yield": "21211",
                                    "Average_rainfall": "1083",
                                    "pesticides": "75000",
                                    "avg_temp": "26",
                                    "Min_Rainfall_Reqd": "450",
                                    "Weather_Index_Insurance": "No Claim"
                                },
                                {
                                    "Area_Code": "100",
                                    "ItemCode": "15",
                                    "Year": "1990",
                                    "hg_ha_Yield": "21211",
                                    "Average_rainfall": "1083",
                                    "pesticides": "75000",
                                    "avg_temp": "25",
                                    "Min_Rainfall_Reqd": "450",
                                    "Weather_Index_Insurance": "No Claim"
                                },
                                {
                                    "Area_Code": "100",
                                    "ItemCode": "15",
                                    "Year": "1990",
                                    "hg_ha_Yield": "21211",
                                    "Average_rainfall": "1083",
                                    "pesticides": "75000",
                                    "avg_temp": "24",
                                    "Min_Rainfall_Reqd": "450",
                                    "Weather_Index_Insurance": "No Claim"
                                },
                                {
                                    "Area_Code": "100",
                                    "ItemCode": "15",
                                    "Year": "1990",
                                    "hg_ha_Yield": "21211",
                                    "Average_rainfall": "1083",
                                    "pesticides": "75000",
                                    "avg_temp": "25",
                                    "Min_Rainfall_Reqd": "450",
                                    "Weather_Index_Insurance": "No Claim"
                                },
                                {
                                    "Area_Code": "100",
                                    "ItemCode": "15",
                                    "Year": "1990",
                                    "hg_ha_Yield": "21211",
                                    "Average_rainfall": "1083",
                                    "pesticides": "75000",
                                    "avg_temp": "25",
                                    "Min_Rainfall_Reqd": "450",
                                    "Weather_Index_Insurance": "No Claim"
                                },
                                {
                                    "Area_Code": "100",
                                    "ItemCode": "15",
                                    "Year": "1990",
                                    "hg_ha_Yield": "21211",
                                    "Average_rainfall": "1083",
                                    "pesticides": "75000",
                                    "avg_temp": "25",
                                    "Min_Rainfall_Reqd": "450",
                                    "Weather_Index_Insurance": "No Claim"
                                },
                                {
                                    "Area_Code": "100",
                                    "ItemCode": "15",
                                    "Year": "1990",
                                    "hg_ha_Yield": "21211",
                                    "Average_rainfall": "1083",
                                    "pesticides": "75000",
                                    "avg_temp": "26",
                                    "Min_Rainfall_Reqd": "450",
                                    "Weather_Index_Insurance": "No Claim"
                                },
                                {
                                    "Area_Code": "100",
                                    "ItemCode": "15",
                                    "Year": "1990",
                                    "hg_ha_Yield": "21211",
                                    "Average_rainfall": "1083",
                                    "pesticides": "75000",
                                    "avg_temp": "26",
                                    "Min_Rainfall_Reqd": "450",
                                    "Weather_Index_Insurance": "No Claim"
                                },
                                {
                                    "Area_Code": "100",
                                    "ItemCode": "15",
                                    "Year": "1990",
                                    "hg_ha_Yield": "21211",
                                    "Average_rainfall": "1083",
                                    "pesticides": "75000",
                                    "avg_temp": "25",
                                    "Min_Rainfall_Reqd": "450",
                                    "Weather_Index_Insurance": "No Claim"
                                }
                            ]
                        },
                        "text/html": [
                            "<table>",
                            "<tr><th>Area_Code</th><th>ItemCode</th><th>Year</th><th>hg_ha_Yield</th><th>Average_rainfall</th><th>pesticides</th><th>avg_temp</th><th>Min_Rainfall_Reqd</th><th>Weather_Index_Insurance</th></tr>",
                            "<tr><td>100</td><td>15</td><td>1990</td><td>21211</td><td>1083</td><td>75000</td><td>25</td><td>450</td><td>No Claim</td></tr>",
                            "<tr><td>100</td><td>15</td><td>1990</td><td>21211</td><td>1083</td><td>75000</td><td>26</td><td>450</td><td>No Claim</td></tr>",
                            "<tr><td>100</td><td>15</td><td>1990</td><td>21211</td><td>1083</td><td>75000</td><td>25</td><td>450</td><td>No Claim</td></tr>",
                            "<tr><td>100</td><td>15</td><td>1990</td><td>21211</td><td>1083</td><td>75000</td><td>24</td><td>450</td><td>No Claim</td></tr>",
                            "<tr><td>100</td><td>15</td><td>1990</td><td>21211</td><td>1083</td><td>75000</td><td>25</td><td>450</td><td>No Claim</td></tr>",
                            "<tr><td>100</td><td>15</td><td>1990</td><td>21211</td><td>1083</td><td>75000</td><td>25</td><td>450</td><td>No Claim</td></tr>",
                            "<tr><td>100</td><td>15</td><td>1990</td><td>21211</td><td>1083</td><td>75000</td><td>25</td><td>450</td><td>No Claim</td></tr>",
                            "<tr><td>100</td><td>15</td><td>1990</td><td>21211</td><td>1083</td><td>75000</td><td>26</td><td>450</td><td>No Claim</td></tr>",
                            "<tr><td>100</td><td>15</td><td>1990</td><td>21211</td><td>1083</td><td>75000</td><td>26</td><td>450</td><td>No Claim</td></tr>",
                            "<tr><td>100</td><td>15</td><td>1990</td><td>21211</td><td>1083</td><td>75000</td><td>25</td><td>450</td><td>No Claim</td></tr>",
                            "</table>"
                        ]
                    }
                }
            ],
            "execution_count": 8
        }
    ]
}