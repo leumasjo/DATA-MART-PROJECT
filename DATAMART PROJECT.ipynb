{
    "metadata": {
        "kernelspec": {
            "name": "SQL",
            "display_name": "SQL",
            "language": "sql"
        },
        "language_info": {
            "name": "sql",
            "version": ""
        }
    },
    "nbformat_minor": 2,
    "nbformat": 4,
    "cells": [
        {
            "cell_type": "markdown",
            "source": [
                "\n",
                ""
            ],
            "metadata": {
                "azdata_cell_guid": "8f74b9e4-7903-44e1-b1a2-a985c0c181dd"
            }
        },
        {
            "cell_type": "markdown",
            "source": [
                "# CROP PRODUCTION ANALYSIS\r\n",
                "...About tow or three paragraphs explaining my project\r\n",
                "\r\n",
                "## Data Source\r\n",
                "\r\n",
                "\r\n",
                "## Steps to Mart Creation\r\n",
                "... Provide information about the source of the data for the mart and links to any supporting information\r\n",
                "\r\n",
                "## Schema Creation\r\n",
                "-  dim\r\n",
                "-  stg\r\n",
                "-  fact\r\n",
                "\r\n",
                "```sql\r\n",
                "/*********************************************************************/\r\n",
                "/****************    SCHEMA DDL      ********************************/\r\n",
                "/*******************************************************************/\r\n",
                "IF NOT EXISTS (SELECT * FROM sys.schemas WHERE name = 'dim' ) \r\n",
                "BEGIN\r\n",
                "\tEXEC sp_executesql N'CREATE SCHEMA dim AUTHORIZATION dbo;'\r\n",
                "END\r\n",
                ";\r\n",
                "\r\n",
                "IF NOT EXISTS (SELECT * FROM sys.schemas WHERE name = 'stg' ) \r\n",
                "BEGIN\r\n",
                "\tEXEC sp_executesql N'CREATE SCHEMA stg AUTHORIZATION dbo;'\r\n",
                "END\r\n",
                ";\r\n",
                "\r\n",
                "IF NOT EXISTS (SELECT * FROM sys.schemas WHERE name = 'f' ) \r\n",
                "BEGIN\r\n",
                "\tEXEC sp_executesql N'CREATE SCHEMA f AUTHORIZATION dbo;'\r\n",
                "END\r\n",
                ";\r\n",
                "GO\r\n",
                "Steps to Dimension and fact Creation\r\n",
                "Tables Creation\r\n",
                "dim.Area\r\n",
                "dim.Item\r\n",
                "dim.Calendar\r\n",
                "f.fact\r\n",
                "```"
            ],
            "metadata": {
                "azdata_cell_guid": "cc1660ef-c8ec-434a-abf9-a1a9d0976852"
            },
            "attachments": {}
        }
    ]
}